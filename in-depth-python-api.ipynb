{
 "cells": [
  {
   "cell_type": "markdown",
   "metadata": {
    "id": "glepVIO44YcK"
   },
   "source": [
    "# Using the Python API"
   ]
  },
  {
   "cell_type": "markdown",
   "metadata": {
    "id": "FCTAJCWT4YcL"
   },
   "source": [
    "<a target=\"_blank\" href=\"https://colab.research.google.com/github/RobbinBouwmeester/Workshop_Grenoble_2025/blob/main/in-depth-python-api.ipynb\">\n",
    "  <img src=\"https://colab.research.google.com/assets/colab-badge.svg\" alt=\"Open In Colab\"/>\n",
    "</a>"
   ]
  },
  {
   "cell_type": "code",
   "execution_count": null,
   "metadata": {
    "colab": {
     "base_uri": "https://localhost:8080/"
    },
    "id": "MRhRIQAs4YcM",
    "outputId": "6ef79d7d-e518-4b55-cd7e-f564c0b5b567",
    "scrolled": true
   },
   "outputs": [],
   "source": [
    "!pip install plotly ms2rescore==3.1.4 im2deep==1.0.2 psm_utils==1.4.0\n"
   ]
  },
  {
   "cell_type": "code",
   "execution_count": null,
   "metadata": {
    "id": "HqQkgYZf4YcN"
   },
   "outputs": [],
   "source": [
    "import logging\n",
    "import plotly.io\n",
    "import os\n",
    "import requests\n",
    "import tarfile\n",
    "import zipfile\n",
    "\n",
    "\n",
    "logging.basicConfig(level=logging.INFO)\n",
    "#plotly.io.renderers.default = \"plotly_mimetype+notebook\"\n",
    "plotly.io.renderers.default = \"colab\""
   ]
  },
  {
   "cell_type": "markdown",
   "metadata": {
    "id": "xGLsDmxH4YcO"
   },
   "source": [
    "## Reading and parsing peptide-spectrum matches"
   ]
  },
  {
   "cell_type": "code",
   "execution_count": null,
   "metadata": {
    "id": "riH39Wmt4YcO"
   },
   "outputs": [],
   "source": [
    "from psm_utils.io import read_file\n",
    "\n",
    "from ms2rescore.report.charts import score_histogram"
   ]
  },
  {
   "cell_type": "code",
   "execution_count": null,
   "metadata": {
    "colab": {
     "base_uri": "https://localhost:8080/"
    },
    "id": "xzx98ZQL4YcO",
    "outputId": "4b2f6e14-2541-49bd-fb17-31c6aaaf67bb"
   },
   "outputs": [],
   "source": [
    "import urllib.request\n",
    "\n",
    "url = \"https://github.com/compomics/Workshop_Grenoble_2025/raw/refs/heads/main/data/Velos005137.mgf\"\n",
    "output_path = \"Velos005137.mgf\"\n",
    "\n",
    "urllib.request.urlretrieve(url, output_path)\n",
    "print(f\"Downloaded to: {output_path}\")"
   ]
  },
  {
   "cell_type": "code",
   "execution_count": null,
   "metadata": {
    "colab": {
     "base_uri": "https://localhost:8080/"
    },
    "id": "1N6HFUuB2WKr",
    "outputId": "90086c32-c70a-412e-8cf1-23da1692cea1"
   },
   "outputs": [],
   "source": [
    "url = \"https://github.com/compomics/Workshop_Grenoble_2025/raw/refs/heads/main/database/combined_fasta.zip\"\n",
    "output_path = \"combined_fasta.zip\"\n",
    "extract_dir = \"./\"\n",
    "\n",
    "\n",
    "urllib.request.urlretrieve(url, output_path)\n",
    "print(f\"Downloaded to: {output_path}\")\n",
    "\n",
    "# Open and extract the contents\n",
    "with zipfile.ZipFile(output_path, 'r') as zip_ref:\n",
    "    zip_ref.extractall(extract_dir)\n",
    "\n",
    "print(f\"Extraction completed successfully to '{extract_dir}'.\")"
   ]
  },
  {
   "cell_type": "code",
   "execution_count": null,
   "metadata": {
    "colab": {
     "base_uri": "https://localhost:8080/"
    },
    "id": "Oyj-UNY24YcP",
    "outputId": "fad4f8bf-e98a-4950-8a45-bc614283b006"
   },
   "outputs": [],
   "source": [
    "# Define URL and file paths\n",
    "url = \"https://github.com/lazear/sage/releases/download/v0.14.7/sage-v0.14.7-x86_64-unknown-linux-gnu.tar.gz\"\n",
    "archive_path = \"sage-v0.14.7.tar.gz\"\n",
    "extract_dir = \"./\"\n",
    "bin_sage_loc = \"sage-v0.14.7-x86_64-unknown-linux-gnu/sage\"\n",
    "\n",
    "# Step 1: Download the file\n",
    "print(\"Downloading archive...\")\n",
    "with requests.get(url, stream=True) as r:\n",
    "    r.raise_for_status()\n",
    "    with open(archive_path, 'wb') as f:\n",
    "        for chunk in r.iter_content(chunk_size=8192):\n",
    "            f.write(chunk)\n",
    "\n",
    "print(f\"Downloaded archive to: {archive_path}\")\n",
    "\n",
    "# Step 2: Extract the tar.gz file\n",
    "print(\"Extracting archive...\")\n",
    "with tarfile.open(archive_path, \"r:gz\") as tar:\n",
    "    tar.extractall(path=extract_dir)\n",
    "\n",
    "print(f\"Extracted to directory: {extract_dir}\")\n",
    "\n",
    "# Set executable permission (equivalent to chmod +x)\n",
    "os.chmod(bin_sage_loc, os.stat(bin_sage_loc).st_mode | 0o111)"
   ]
  },
  {
   "cell_type": "code",
   "execution_count": null,
   "metadata": {
    "id": "ksjQt-f74YcQ"
   },
   "outputs": [],
   "source": [
    "# Define URL and file paths\n",
    "url = \"https://github.com/lazear/sage/releases/download/v0.14.7/sage-v0.14.7-x86_64-pc-windows-msvc.zip\"\n",
    "archive_path = \"sage-v0.14.7.zip\"\n",
    "extract_dir = \"./\"\n",
    "bin_sage_loc = \"sage-v0.14.7-x86_64-pc-windows-msvc\\\\sage.exe\"\n",
    "\n",
    "# Step 1: Download the ZIP file\n",
    "print(\"Downloading archive...\")\n",
    "with requests.get(url, stream=True) as r:\n",
    "    r.raise_for_status()\n",
    "    with open(archive_path, 'wb') as f:\n",
    "        for chunk in r.iter_content(chunk_size=8192):\n",
    "            f.write(chunk)\n",
    "\n",
    "print(f\"Downloaded archive to: {archive_path}\")\n",
    "\n",
    "# Step 2: Extract the ZIP file\n",
    "print(\"Extracting archive...\")\n",
    "with zipfile.ZipFile(archive_path, \"r\") as zip_ref:\n",
    "    zip_ref.extractall(path=extract_dir)\n",
    "\n",
    "print(f\"Extracted to directory: {extract_dir}\")"
   ]
  },
  {
   "cell_type": "code",
   "execution_count": null,
   "metadata": {
    "colab": {
     "base_uri": "https://localhost:8080/"
    },
    "id": "HXraez3j4YcQ",
    "outputId": "ec8e4e02-1c10-4d98-d03d-eafc220799a7"
   },
   "outputs": [],
   "source": [
    "url = \"https://github.com/compomics/Workshop_Grenoble_2025/raw/refs/heads/main/json/params.json\"\n",
    "output_path = \"params.json\"\n",
    "\n",
    "urllib.request.urlretrieve(url, output_path)\n",
    "print(f\"Downloaded to: {output_path}\")"
   ]
  },
  {
   "cell_type": "code",
   "execution_count": null,
   "metadata": {
    "colab": {
     "base_uri": "https://localhost:8080/"
    },
    "id": "5EEQ2Nf74YcQ",
    "outputId": "265bb46d-8db8-4569-89b2-cb98ec26688c"
   },
   "outputs": [],
   "source": [
    "!{bin_sage_loc} params.json"
   ]
  },
  {
   "cell_type": "markdown",
   "metadata": {
    "id": "xxVFdfv34YcQ"
   },
   "source": [
    "### Reading the PSM file\n",
    "\n",
    "MS²Rescore is fully centered around the use of a `psm_utils` PSMList. This is a unified data representation of PSMs and their various attributes. Internally, it is simply a list of Pydantic data classes which represent PSMs. With the submodule `psm_utils.io`, we can read PSMs from a variety of file formats. Here, we will read a PSM file in the MaxQuant `msms.txt` format.\n",
    "\n",
    "Importantly, for rescoring, the PSM file must contain all target and decoy PSMs, including PSMs that did not pass the FDR threshold. Most search engines must be specifically configured to return all PSMs without FDR filtering.\n"
   ]
  },
  {
   "cell_type": "code",
   "execution_count": null,
   "metadata": {
    "id": "vu4ZbWTN4YcQ"
   },
   "outputs": [],
   "source": [
    "psm_list = read_file(\"results.sage.tsv\", filetype=\"sage_tsv\")\n",
    "psm_list[\"spectrum_id\"] = [str(spec_id) for spec_id in psm_list[\"spectrum_id\"]]"
   ]
  },
  {
   "cell_type": "markdown",
   "metadata": {
    "id": "bnmDnWag4YcQ"
   },
   "source": [
    "For a quick inspection, we can format the PSM list as a Pandas dataframe and display the first few rows:"
   ]
  },
  {
   "cell_type": "code",
   "execution_count": null,
   "metadata": {
    "colab": {
     "base_uri": "https://localhost:8080/",
     "height": 486
    },
    "id": "Hz1JV4Lf4YcR",
    "outputId": "76b4b8cc-ab88-4aa7-d2a2-3ce040049224"
   },
   "outputs": [],
   "source": [
    "psm_list.to_dataframe().head()"
   ]
  },
  {
   "cell_type": "markdown",
   "metadata": {
    "id": "459LhLNY4YcR"
   },
   "source": [
    "We can also directly plot the current PSM score distributions:"
   ]
  },
  {
   "cell_type": "code",
   "execution_count": null,
   "metadata": {
    "colab": {
     "base_uri": "https://localhost:8080/",
     "height": 542
    },
    "id": "r-nvgZ-g4YcR",
    "outputId": "020f9c63-a8ac-4778-a08c-7368b596927d"
   },
   "outputs": [],
   "source": [
    "score_histogram(psm_list)"
   ]
  },
  {
   "cell_type": "markdown",
   "metadata": {
    "id": "wDMFkYZd4YcR"
   },
   "source": [
    "### Parsing modification names\n",
    "\n",
    "While `psm_utils` could take care of all file parsing, we must still map the amino acid modification names that were used by the search engine to ones that are recognized by tools such as MS²PiP and DeepLC. This includes:\n",
    "\n",
    "- Names as used in the Unimod or PSI-MOD databases\n",
    "- Accession numbers as used in the Unimod or PSI-MOD databases\n",
    "- Chemical formulas\n",
    "- Mass shifts in Da\n",
    "\n",
    "Note that, for instance DeepLC, requires a chemical formula to encode modifications. It will not be able to correctly encode modifications if only the mass shift is provided. It is therefore always preferred to provide a name/accession of a database where this information can be retrieved, or provide the chemical formula directly.\n",
    "\n",
    "If a chemical formula is provided, other tools, such as MS²PIP, can use it to derive the correct mass shift.\n",
    "\n",
    "To map modification names, simply provide a dictionary to the `psm_list.map_modifications` method."
   ]
  },
  {
   "cell_type": "code",
   "execution_count": null,
   "metadata": {
    "id": "xc-kuTeR4YcR"
   },
   "outputs": [],
   "source": [
    "psm_list.rename_modifications({\n",
    "    \"-17.026548\": \"Gln->pyro-Glu\",\n",
    "    \"-18.010565\": \"Glu->pyro-Glu\",\n",
    "    \"15.9949\": \"Oxidation\",\n",
    "    \"57.0215\": \"Carbamidomethyl\",\n",
    "    \"de\": \"Deamidation\",\n",
    "})"
   ]
  },
  {
   "cell_type": "markdown",
   "metadata": {
    "id": "oSu8LA964YcR"
   },
   "source": [
    "### Assigning fixed modifications\n",
    "\n",
    "Some search engines (although not many) do not report fixed (sometimes also called static) modifications in their output PSM files. This is for instance the case for MaxQuant. With the method `psm_list.add_fixed_modifications`, we can systematically assign fixed modifications to their amino acid targets, as was done during the search.\n",
    "\n",
    "Note that `add_fixed_modifications` adds the modification in the ProForma 2.0 encoding as a prefix. To fully apply the modifications in the sequence, use the `psm_list.apply_fixed_modifications` method. A PSM `ACDE/2` would therefore go from `<[U:4]@C>ACDE/2` to `AC[U:4]DE/2`.\n",
    "\n"
   ]
  },
  {
   "cell_type": "code",
   "execution_count": null,
   "metadata": {
    "id": "3Bim8tok4YcR"
   },
   "outputs": [],
   "source": [
    "psm_list.add_fixed_modifications([(\"U:Carbamidomethyl\", [\"C\"])])\n",
    "psm_list.apply_fixed_modifications()"
   ]
  },
  {
   "cell_type": "markdown",
   "metadata": {
    "id": "JWB70PtB4YcR"
   },
   "source": [
    "## Adding rescoring features"
   ]
  },
  {
   "cell_type": "code",
   "execution_count": null,
   "metadata": {
    "id": "KDbOrWfp4YcR"
   },
   "outputs": [],
   "source": [
    "import pandas as pd\n",
    "\n",
    "from ms2rescore.feature_generators.basic import BasicFeatureGenerator\n",
    "from ms2rescore.feature_generators.maxquant import MaxQuantFeatureGenerator\n",
    "from ms2rescore.feature_generators.ms2pip import MS2PIPFeatureGenerator\n",
    "from ms2rescore.feature_generators.deeplc import DeepLCFeatureGenerator"
   ]
  },
  {
   "cell_type": "markdown",
   "metadata": {
    "id": "ILYGoE-k4YcS"
   },
   "source": [
    "The PSM list, as read from a MaxQuant msms.txt file, currently does not contain any rescoring features:"
   ]
  },
  {
   "cell_type": "code",
   "execution_count": null,
   "metadata": {
    "colab": {
     "base_uri": "https://localhost:8080/",
     "height": 444
    },
    "id": "dYBq-jxK4YcS",
    "outputId": "6aefec17-0f45-4e15-eb55-15427cc0c7cd"
   },
   "outputs": [],
   "source": [
    "pd.DataFrame(list(psm_list[\"rescoring_features\"]))"
   ]
  },
  {
   "cell_type": "markdown",
   "metadata": {
    "id": "MSvkVY_v4YcS"
   },
   "source": [
    "Note that `psm_list[rescoring_features]` returns a Numpy array of dictionaries, but we can use Pandas to format it as a table."
   ]
  },
  {
   "cell_type": "markdown",
   "metadata": {
    "id": "sOMD5lt_4YcS"
   },
   "source": [
    "### Basic features"
   ]
  },
  {
   "cell_type": "markdown",
   "metadata": {
    "id": "reEB7j4S4YcS"
   },
   "source": [
    "Basic features from `BasicFeatureGenerator` can be added from any PSM list and contain simple feature, such as the search engine score, charge state, and absolute precursor mass error."
   ]
  },
  {
   "cell_type": "code",
   "execution_count": null,
   "metadata": {
    "id": "R-1JTQ__4YcS"
   },
   "outputs": [],
   "source": [
    "basic_fgen = BasicFeatureGenerator()\n",
    "basic_fgen.add_features(psm_list)"
   ]
  },
  {
   "cell_type": "code",
   "execution_count": null,
   "metadata": {
    "colab": {
     "base_uri": "https://localhost:8080/",
     "height": 444
    },
    "id": "_GkK9TwI4YcS",
    "outputId": "fcc46324-9c70-419f-bf7f-3f1c27198c1e"
   },
   "outputs": [],
   "source": [
    "pd.DataFrame(list(psm_list[\"rescoring_features\"]))"
   ]
  },
  {
   "cell_type": "markdown",
   "metadata": {
    "id": "L1eupHTK4YcT"
   },
   "source": [
    "Now the PSMs contain a simple set of features.\n",
    "\n",
    "Note that the charge state is present as both an integer and a one-hot encoded vector. This is because charge state can act as both a categorical and a numerical feature. Simply put, sometimes an effect increases or decreases with increasing charge state, and sometimes it is simply different for different charge states."
   ]
  },
  {
   "cell_type": "markdown",
   "metadata": {
    "id": "qDopA2bC4YcT"
   },
   "source": [
    "### MS²PIP features\n",
    "\n",
    "MS²PIP is a machine learning tool that predicts the MS2 spectrum of a peptide given its sequence. It is previously identified MS2 spectra and their corresponding peptide sequences. Because MS²PIP uses the highly performant - but traditional - machine learning approach XGBoost, it can already produce accurate predictions even if trained on smaller spectral libraries. This makes MS²PIP a very flexible platform to train new models on custom datasets. Nevertheless, MS²PIP comes with several pre-trained models, which we will use in this tutorial.\n",
    "\n",
    "Because traditional proteomics search engines do not fully consider MS2 peak intensities in their scoring functions, adding rescoring features derived from spectrum prediction tools has proved to be a very effective way to further improve the sensitivity of peptide-spectrum matching. Generating features from MS²PIP predictions follows these steps:\n",
    "\n",
    "1. Predict MS2 spectra for all PSMs in the dataset, including decoy PSMs and low scoring target PSMs.\n",
    "2. Read and parse the observed MS2 spectra from the original spectrum files (MGF or mzML).\n",
    "3. Compare the predicted and observed spectra using various similarity metrics, which are returned as rescoring features."
   ]
  },
  {
   "cell_type": "markdown",
   "metadata": {
    "id": "tYLbUAA64YcT"
   },
   "source": [
    "\n",
    "#### Configuring MS²PIP\n",
    "\n",
    "In contrast to the basic feature generator, MS²PIP requires some parameters to be set and requires access to the original observed peptide spectra:\n",
    "\n",
    "- `model`: Name of the prediction model to be used. This strongly depends on the dataset your are rescoring. A list of all MS²PIP models is available on https://ms2pip.readthedocs.io/en/latest/prediction-models/.\n",
    "- `ms2_tolerance`: As MS²PIP must reannotate the observed MS2 spectra, a mass tolerance must be set. For MS²PIP, this is configured in Dalton. A good value for Orbitrap spectra, for example, is `0.02`.\n",
    "- `spectrum_path`: Path to the original spectrum files. This can be a single file, or a directory containing multiple files. The spectrum files must be in MGF or mzML format.\n",
    "- `spectrum_id_pattern`: A regular expression pattern to extract the spectrum ID from the PSMs (see below).\n",
    "- `processes`: Number of CPU processes to use for parallel processing. Note that higher values can lead to memory issues."
   ]
  },
  {
   "cell_type": "code",
   "execution_count": null,
   "metadata": {
    "id": "SuNkJyGj4YcT"
   },
   "outputs": [],
   "source": [
    "ms2pip_fgen = MS2PIPFeatureGenerator(\n",
    "    model=\"HCD\",\n",
    "    ms2_tolerance=0.02,\n",
    "    spectrum_path=\"Velos005137.mgf\",\n",
    "#    spectrum_id_pattern=r\".*\",\n",
    "#    psm_id_pattern=r\".*\",\n",
    "    processes=8,\n",
    ")"
   ]
  },
  {
   "cell_type": "markdown",
   "metadata": {
    "id": "W21J_-3U4YcT"
   },
   "source": [
    "A very import aspect of generating MS²PIP-derived features is making sure the peptide identifications are matched to the correct spectra. Unfortunately, many search engines alter spectrum identifiers in their output files. In the case of MaxQuant and data from Thermo instruments, fortunately, the scan numbers are returned. If the spectrum files have been converted to MGF with ThermoRawFileParser, we need to extract these exact scan numbers from the spectrum `TITLE` entries. This can be done with a regular expression pattern. For example, the following pattern extracts the scan number from the following spectrum title:\n",
    "\n",
    "```python\n",
    "spectrum_id_pattern = r\"scan=(\\d+)\"\n",
    "```\n",
    "\n",
    "```\n",
    "mzspec=20161213_NGHF_DBJ_SA_Exp3A_HeLa_1ug_7min_15000_02.raw: controllerType=0 controllerNumber=1 scan=2\n",
    "```\n",
    "\n",
    "We can test this with the first spectrum in the file:"
   ]
  },
  {
   "cell_type": "code",
   "execution_count": null,
   "metadata": {
    "colab": {
     "base_uri": "https://localhost:8080/"
    },
    "id": "dIGEQnOE4YcT",
    "outputId": "afd44814-276f-45bb-edf1-0750ca394316"
   },
   "outputs": [],
   "source": [
    "from pyteomics.mgf import read as read_mgf\n",
    "\n",
    "for spectrum in read_mgf(\"Velos005137.mgf\"):\n",
    "    spectrum_id = spectrum[\"params\"][\"title\"]\n",
    "    break\n",
    "print(spectrum_id)"
   ]
  },
  {
   "cell_type": "markdown",
   "metadata": {
    "id": "dTZwH-iH4YcX"
   },
   "source": [
    "We can use this scan number to retrieve its corresponding PSM:"
   ]
  },
  {
   "cell_type": "code",
   "execution_count": null,
   "metadata": {
    "colab": {
     "base_uri": "https://localhost:8080/"
    },
    "id": "7l7HE-bS4YcX",
    "outputId": "6f73f8f1-425d-46bd-c655-8e7f6cb718d9"
   },
   "outputs": [],
   "source": [
    "psm_list[psm_list[\"spectrum_id\"] == \"controllerType=0 controllerNumber=1 scan=2162\"]"
   ]
  },
  {
   "cell_type": "code",
   "execution_count": null,
   "metadata": {
    "colab": {
     "base_uri": "https://localhost:8080/"
    },
    "id": "VLpSH0CV5AJ5",
    "outputId": "e66f24e8-66bc-4dcf-8a01-62f9fd44d977"
   },
   "outputs": [],
   "source": [
    "psm_list[\"spectrum_id\"]"
   ]
  },
  {
   "cell_type": "markdown",
   "metadata": {
    "id": "LSszCTp44YcX"
   },
   "source": [
    "#### Generating MS²PIP features"
   ]
  },
  {
   "cell_type": "code",
   "execution_count": null,
   "metadata": {
    "colab": {
     "base_uri": "https://localhost:8080/",
     "height": 17,
     "referenced_widgets": [
      "091f60b17d4c4937b09cc2eedf57b0a9",
      "c3571c24398141ea9193afb4af1178a5"
     ]
    },
    "id": "tfUDM4zj4YcX",
    "outputId": "f6679e23-9f66-4ad0-b10a-9e37e52fa591"
   },
   "outputs": [],
   "source": [
    "ms2pip_fgen.add_features(psm_list)"
   ]
  },
  {
   "cell_type": "code",
   "execution_count": null,
   "metadata": {
    "colab": {
     "base_uri": "https://localhost:8080/",
     "height": 444
    },
    "id": "2MY74Wa64YcX",
    "outputId": "91d4c38b-e950-450c-d1a6-fceba458bb04"
   },
   "outputs": [],
   "source": [
    "pd.DataFrame(list(psm_list[\"rescoring_features\"]))"
   ]
  },
  {
   "cell_type": "markdown",
   "metadata": {
    "id": "4tIi7bUK4YcX"
   },
   "source": [
    "### Generating DeepLC features"
   ]
  },
  {
   "cell_type": "code",
   "execution_count": null,
   "metadata": {
    "colab": {
     "base_uri": "https://localhost:8080/"
    },
    "id": "EH2Ha5bY4YcX",
    "outputId": "1dd7fa72-2a6a-4bc8-b507-061db13c5f6b"
   },
   "outputs": [],
   "source": [
    "deeplc_fgen = DeepLCFeatureGenerator(\n",
    "    lower_score_is_better=False,\n",
    "    spectrum_path=None,\n",
    "    processes=8,\n",
    "    deeplc_retrain=False,\n",
    ")\n",
    "\n",
    "deeplc_fgen.add_features(psm_list)"
   ]
  },
  {
   "cell_type": "markdown",
   "metadata": {
    "id": "tw1DLf1E4YcY"
   },
   "source": [
    "### Assessing individual feature performance before rescoring"
   ]
  },
  {
   "cell_type": "code",
   "execution_count": null,
   "metadata": {
    "id": "4AkwJ_Er4YcY"
   },
   "outputs": [],
   "source": [
    "import plotly.express as px\n",
    "from ms2rescore.report.charts import (\n",
    "    calculate_feature_qvalues,\n",
    "    feature_ecdf_auc_bar,\n",
    "    fdr_plot,\n",
    "    ms2pip_correlation,\n",
    ")\n",
    "import deeplc.plot\n",
    "\n",
    "features = pd.DataFrame(list(psm_list[\"rescoring_features\"]))"
   ]
  },
  {
   "cell_type": "markdown",
   "metadata": {
    "id": "NyS23_wh4YcY"
   },
   "source": [
    "The following plot shows the number of identified PSM at varying FDR thresholds, where the red line indicates the commonly used 1% FDR threshold."
   ]
  },
  {
   "cell_type": "code",
   "execution_count": null,
   "metadata": {
    "colab": {
     "base_uri": "https://localhost:8080/",
     "height": 542
    },
    "id": "fUqCWxcb4YcZ",
    "outputId": "3c63ab34-024f-4b03-9907-799af387794f"
   },
   "outputs": [],
   "source": [
    "psm_list.calculate_qvalues()  # msms.txt does not contain q-values\n",
    "fig = fdr_plot(psm_list.to_dataframe(), fdr_thresholds=None, log=False)\n",
    "fig.show()"
   ]
  },
  {
   "cell_type": "markdown",
   "metadata": {
    "id": "GwJkmeew4YcZ"
   },
   "source": [
    "We can make a similar plot for each of the rescoring features by simply calculating q-values as if the feature were a search engine score."
   ]
  },
  {
   "cell_type": "code",
   "execution_count": null,
   "metadata": {
    "id": "r69Ke1104YcZ"
   },
   "outputs": [],
   "source": [
    "feature_qvalues, feature_ecdf_auc = calculate_feature_qvalues(\n",
    "    features=features,\n",
    "    is_decoy=psm_list[\"is_decoy\"],\n",
    ")"
   ]
  },
  {
   "cell_type": "code",
   "execution_count": null,
   "metadata": {
    "id": "mirYkij_4YcZ"
   },
   "outputs": [],
   "source": [
    "feature_names = {\n",
    "    \"basic\": basic_fgen.feature_names,\n",
    "    \"ms2pip\": ms2pip_fgen.feature_names,\n",
    "    \"deeplc\": deeplc_fgen.feature_names,\n",
    "}\n",
    "feature_generator_map = {name: gen for gen, f_list in feature_names.items() for name in f_list}\n",
    "\n",
    "feature_qvalues_melt = feature_qvalues.melt(var_name=\"feature\", value_name=\"q-value\")\n",
    "feature_qvalues_melt[\"feature_generator\"] = feature_qvalues_melt[\"feature\"].map(feature_generator_map)"
   ]
  },
  {
   "cell_type": "markdown",
   "metadata": {
    "id": "JbfJpyh64YcZ"
   },
   "source": [
    "The larger the area under the curve (AUC) is for each line, the better. We can therefore visualize the same information in a more easy-to-interpret bar chart with the AUCs, which were already calculated by the `calculate_feature_qvalues` function."
   ]
  },
  {
   "cell_type": "code",
   "execution_count": null,
   "metadata": {
    "id": "_X5vCJYM4YcZ"
   },
   "outputs": [],
   "source": [
    "feature_ecdf_auc[\"feature_generator\"] = feature_ecdf_auc[\"feature\"].map(feature_generator_map)"
   ]
  },
  {
   "cell_type": "code",
   "execution_count": null,
   "metadata": {
    "colab": {
     "base_uri": "https://localhost:8080/",
     "height": 542
    },
    "id": "H6_tyg5K4YcZ",
    "outputId": "6a166c61-3073-4896-c688-943af529474c"
   },
   "outputs": [],
   "source": [
    "fig = feature_ecdf_auc_bar(feature_ecdf_auc)\n",
    "fig.show()"
   ]
  },
  {
   "cell_type": "markdown",
   "metadata": {
    "id": "lRzh7dy44Yca"
   },
   "source": [
    "Importantly, a low q-value ECDF AUC does not necessarily mean that a feature is not valuable for rescoring. The more orthogonal a feature is to the other information already used in PSM scoring, the more it will help to confidently identify PSMs. For instance, retention time features are completely independent from the information used in a traditional search engine. When combined with other scoring information, they can provide a substantial boost in sensitivity."
   ]
  },
  {
   "cell_type": "markdown",
   "metadata": {
    "id": "8MVJl87u4Yca"
   },
   "source": [
    "The quality of specific rescoring features can also be assessed in a manner specific to the feature. For instance, we can plot the distribution of the MS²PIP pearson correlations for target PSMs that initially passed the FDR threshold:"
   ]
  },
  {
   "cell_type": "code",
   "execution_count": null,
   "metadata": {
    "colab": {
     "base_uri": "https://localhost:8080/",
     "height": 542
    },
    "id": "C07qE_Ln4Yca",
    "outputId": "c66b5d88-710c-4827-9f48-ecd0d0447d83"
   },
   "outputs": [],
   "source": [
    "fig = ms2pip_correlation(\n",
    "    features=features,\n",
    "    is_decoy=psm_list[\"is_decoy\"],\n",
    "    qvalue=psm_list[\"qvalue\"]\n",
    ")\n",
    "fig.show()"
   ]
  },
  {
   "cell_type": "markdown",
   "metadata": {
    "id": "F_v8cSNo4Yca"
   },
   "source": [
    "For DeepLC, we can plot the predicted retention time versus the observed retention time:"
   ]
  },
  {
   "cell_type": "code",
   "execution_count": null,
   "metadata": {
    "colab": {
     "base_uri": "https://localhost:8080/"
    },
    "id": "Mb9RxOc0rpfI",
    "outputId": "42f9caa8-2f9e-468b-8fb4-fcd3665dcc27"
   },
   "outputs": [],
   "source": [
    "sum(psm_list[\"is_decoy\"])"
   ]
  },
  {
   "cell_type": "code",
   "execution_count": null,
   "metadata": {
    "colab": {
     "base_uri": "https://localhost:8080/",
     "height": 542
    },
    "id": "WnA0cH4p4Yca",
    "outputId": "b4848884-0b1f-428b-f14e-7af8dd1ff4e5"
   },
   "outputs": [],
   "source": [
    "fig = deeplc.plot.scatter(\n",
    "    df=features[(~psm_list[\"is_decoy\"]) & (psm_list[\"qvalue\"] <= 0.01)],  # noqa: E712\n",
    "    predicted_column=\"predicted_retention_time_best\",\n",
    "    observed_column=\"observed_retention_time_best\",\n",
    ")\n",
    "fig.show()"
   ]
  },
  {
   "cell_type": "markdown",
   "metadata": {
    "id": "v4fYR0HW4Yca"
   },
   "source": [
    "DeepLC also provides a function to plot the current relative mean absolute error (rMAE) of the predicted retention times against a distribution of 460 benchmark datasets. The lower the rMAE, the better."
   ]
  },
  {
   "cell_type": "code",
   "execution_count": null,
   "metadata": {
    "colab": {
     "base_uri": "https://localhost:8080/",
     "height": 542
    },
    "id": "Pfj85mk44Yca",
    "outputId": "588f0dad-9b4e-4b46-8170-909252e5c577"
   },
   "outputs": [],
   "source": [
    "fig = deeplc.plot.distribution_baseline(\n",
    "    df=features[(~psm_list[\"is_decoy\"]) & (psm_list[\"qvalue\"] <= 0.01)],  # noqa: E712\n",
    "    predicted_column=\"predicted_retention_time_best\",\n",
    "    observed_column=\"observed_retention_time_best\",\n",
    ")\n",
    "fig.show()"
   ]
  },
  {
   "cell_type": "markdown",
   "metadata": {
    "id": "c6XSKBzx4Yca"
   },
   "source": [
    "## Rescoring"
   ]
  },
  {
   "cell_type": "markdown",
   "metadata": {
    "id": "7ZaWmHYS4Yca"
   },
   "source": [
    "### Using Mokapot directly"
   ]
  },
  {
   "cell_type": "code",
   "execution_count": null,
   "metadata": {
    "id": "socijRbG4Ycb"
   },
   "outputs": [],
   "source": [
    "import matplotlib.pyplot as plt\n",
    "from mokapot import brew\n",
    "from ms2rescore.rescoring_engines.mokapot import convert_psm_list\n",
    "\n",
    "%matplotlib inline"
   ]
  },
  {
   "cell_type": "markdown",
   "metadata": {
    "id": "A6pl1Cvk4Ycb"
   },
   "source": [
    "In this tutorial, we will use Mokapot as rescoring engine. By default it employs the same methodologies as Percolator, but is fully implemented in Python. First, the PSM list must be converted to a Mokapot `LinearPsmDataset`."
   ]
  },
  {
   "cell_type": "code",
   "execution_count": null,
   "metadata": {
    "id": "83jtK8yT4Ycb"
   },
   "outputs": [],
   "source": [
    "linear_psm_dataset = convert_psm_list(psm_list)"
   ]
  },
  {
   "cell_type": "markdown",
   "metadata": {
    "id": "uQbESAF04Ycb"
   },
   "source": [
    "Then, the Mokapot `brew` function can be called to rescore the PSMs:"
   ]
  },
  {
   "cell_type": "code",
   "execution_count": null,
   "metadata": {
    "id": "ed6ZuIpY4Ycb"
   },
   "outputs": [],
   "source": [
    "confidence_results, models = brew(linear_psm_dataset)"
   ]
  },
  {
   "cell_type": "markdown",
   "metadata": {
    "id": "NiqY4Rb44Ycb"
   },
   "source": [
    "Mokapot contains a function to conveniently plot the results:"
   ]
  },
  {
   "cell_type": "code",
   "execution_count": null,
   "metadata": {
    "id": "47oOhhgl4Ycb"
   },
   "outputs": [],
   "source": [
    "confidence_results.plot_qvalues()\n",
    "plt.show()"
   ]
  },
  {
   "cell_type": "markdown",
   "metadata": {
    "id": "zptwI_gn4Ycb"
   },
   "source": [
    "Or to compare the un-rescored PSMs to the rescored PSMs:"
   ]
  },
  {
   "cell_type": "code",
   "execution_count": null,
   "metadata": {
    "id": "sbgAl-1h4Ycb"
   },
   "outputs": [],
   "source": [
    "linear_psm_dataset.assign_confidence().plot_qvalues(label=\"Before rescoring\")\n",
    "confidence_results.plot_qvalues(label=\"After rescoring\")\n",
    "plt.legend()\n",
    "plt.show()"
   ]
  },
  {
   "cell_type": "markdown",
   "metadata": {
    "id": "TYJYMb7S4Ycb"
   },
   "source": [
    "Using mokapot directly allows us to quickly generate `LinearPsmDataset` objects with different feature sets, for instance:\n",
    "\n",
    "- Only basic features\n",
    "- Basic + MaxQuant-derived features (mimicking a traditional Percolator rescoring run)\n",
    "- Basic + MaxQuant-derived + MS²PIP features\n",
    "- Basic + MaxQuant-derived + MS²PIP + DeepLC features\n"
   ]
  },
  {
   "cell_type": "code",
   "execution_count": null,
   "metadata": {
    "id": "GiUBDbf24Ycc"
   },
   "outputs": [],
   "source": [
    "feature_sets = {\n",
    "    \"basic\": feature_names[\"basic\"],\n",
    "    \"basic_ms2pip\": feature_names[\"basic\"] + feature_names[\"ms2pip\"],\n",
    "    \"basic_ms2pip_deeplc\": feature_names[\"basic\"] + feature_names[\"ms2pip\"] + feature_names[\"deeplc\"],\n",
    "}"
   ]
  },
  {
   "cell_type": "code",
   "execution_count": null,
   "metadata": {
    "id": "4RyvU5tr4Ycc"
   },
   "outputs": [],
   "source": [
    "linear_psm_dataset.assign_confidence().plot_qvalues(label=\"Before rescoring\")\n",
    "\n",
    "for feature_set, features in feature_sets.items():\n",
    "    linear_psm_dataset = convert_psm_list(psm_list, features)\n",
    "    confidence_results, models = brew(linear_psm_dataset)\n",
    "    confidence_results.plot_qvalues(label=f\"Rescoring with: {feature_set}\")\n",
    "\n",
    "plt.xscale('log')\n",
    "plt.xlim(1e-4, 1)\n",
    "plt.legend()\n",
    "plt.show()"
   ]
  },
  {
   "cell_type": "markdown",
   "metadata": {
    "id": "G8_eUqiy4Ycc"
   },
   "source": [
    "### Using Mokapot within MS²Rescore"
   ]
  },
  {
   "cell_type": "markdown",
   "metadata": {
    "id": "OrUHfQoP4Ycc"
   },
   "source": [
    "Mokapot can also be used for rescoring with the higher-level integration in MS²Rescore. Simply pass\n",
    "a PSMList object with rescoring features added to the `rescore` function. Doing so will automatically\n",
    "convert the PSMList to a Mokapot `LinearPsmDataset`, run the `brew` function, and update the original\n",
    "PSMList with the new scores, q-values and PEPs."
   ]
  },
  {
   "cell_type": "code",
   "execution_count": null,
   "metadata": {
    "id": "TV7FI8Qa4Ycc"
   },
   "outputs": [],
   "source": [
    "from ms2rescore.rescoring_engines import mokapot\n",
    "\n",
    "mokapot.rescore(psm_list)"
   ]
  },
  {
   "cell_type": "code",
   "execution_count": null,
   "metadata": {
    "id": "N1mbHtpD4Ycc"
   },
   "outputs": [],
   "source": [
    "score_histogram(psm_list.to_dataframe())"
   ]
  }
 ],
 "metadata": {
  "colab": {
   "provenance": []
  },
  "kernelspec": {
   "display_name": "Python 3 (ipykernel)",
   "language": "python",
   "name": "python3"
  },
  "language_info": {
   "codemirror_mode": {
    "name": "ipython",
    "version": 3
   },
   "file_extension": ".py",
   "mimetype": "text/x-python",
   "name": "python",
   "nbconvert_exporter": "python",
   "pygments_lexer": "ipython3",
   "version": "3.11.11"
  },
  "widgets": {
   "application/vnd.jupyter.widget-state+json": {
    "091f60b17d4c4937b09cc2eedf57b0a9": {
     "model_module": "@jupyter-widgets/output",
     "model_module_version": "1.0.0",
     "model_name": "OutputModel",
     "state": {
      "_dom_classes": [],
      "_model_module": "@jupyter-widgets/output",
      "_model_module_version": "1.0.0",
      "_model_name": "OutputModel",
      "_view_count": null,
      "_view_module": "@jupyter-widgets/output",
      "_view_module_version": "1.0.0",
      "_view_name": "OutputView",
      "layout": "IPY_MODEL_c3571c24398141ea9193afb4af1178a5",
      "msg_id": "",
      "outputs": [
       {
        "data": {
         "text/html": "<pre style=\"white-space:pre;overflow-x:auto;line-height:normal;font-family:Menlo,'DejaVu Sans Mono',consolas,'Courier New',monospace\">Calculating features... <span style=\"color: #f92672; text-decoration-color: #f92672\">━━━━━━━━━━━━━━━━━━━━━━━━━━━━━━━━━━━━━━━╸</span> <span style=\"color: #800080; text-decoration-color: #800080\">100%</span> <span style=\"color: #008080; text-decoration-color: #008080\">0:00:01</span>\n</pre>\n",
         "text/plain": "Calculating features... \u001b[38;2;249;38;114m━━━━━━━━━━━━━━━━━━━━━━━━━━━━━━━━━━━━━━━\u001b[0m\u001b[38;2;249;38;114m╸\u001b[0m \u001b[35m100%\u001b[0m \u001b[36m0:00:01\u001b[0m\n"
        },
        "metadata": {},
        "output_type": "display_data"
       }
      ]
     }
    },
    "c3571c24398141ea9193afb4af1178a5": {
     "model_module": "@jupyter-widgets/base",
     "model_module_version": "1.2.0",
     "model_name": "LayoutModel",
     "state": {
      "_model_module": "@jupyter-widgets/base",
      "_model_module_version": "1.2.0",
      "_model_name": "LayoutModel",
      "_view_count": null,
      "_view_module": "@jupyter-widgets/base",
      "_view_module_version": "1.2.0",
      "_view_name": "LayoutView",
      "align_content": null,
      "align_items": null,
      "align_self": null,
      "border": null,
      "bottom": null,
      "display": null,
      "flex": null,
      "flex_flow": null,
      "grid_area": null,
      "grid_auto_columns": null,
      "grid_auto_flow": null,
      "grid_auto_rows": null,
      "grid_column": null,
      "grid_gap": null,
      "grid_row": null,
      "grid_template_areas": null,
      "grid_template_columns": null,
      "grid_template_rows": null,
      "height": null,
      "justify_content": null,
      "justify_items": null,
      "left": null,
      "margin": null,
      "max_height": null,
      "max_width": null,
      "min_height": null,
      "min_width": null,
      "object_fit": null,
      "object_position": null,
      "order": null,
      "overflow": null,
      "overflow_x": null,
      "overflow_y": null,
      "padding": null,
      "right": null,
      "top": null,
      "visibility": null,
      "width": null
     }
    }
   }
  }
 },
 "nbformat": 4,
 "nbformat_minor": 4
}
